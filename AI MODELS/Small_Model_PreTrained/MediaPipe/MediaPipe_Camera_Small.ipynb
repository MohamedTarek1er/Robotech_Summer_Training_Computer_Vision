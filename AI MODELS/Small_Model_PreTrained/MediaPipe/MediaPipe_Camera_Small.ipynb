{
 "cells": [
  {
   "cell_type": "code",
   "execution_count": 1,
   "id": "16a5231b",
   "metadata": {},
   "outputs": [
    {
     "name": "stderr",
     "output_type": "stream",
     "text": [
      "WARNING:absl:Compiled the loaded model, but the compiled metrics have yet to be built. `model.compile_metrics` will be empty until you train or evaluate the model.\n"
     ]
    }
   ],
   "source": [
    "import cv2\n",
    "import numpy as np\n",
    "import tensorflow as tf\n",
    "import mediapipe as mp\n",
    "import pickle\n",
    "\n",
    "# Load your trained MobileNet model\n",
    "mobilenet_model = tf.keras.models.load_model(\n",
    "    r\"C:\\Users\\moham\\Downloads\\Robotech\\Summer_Training\\Project\\Note_Book\\Small_Data_model\\MediaPipe\\Small_Model_Final2.h5\"\n",
    ")\n",
    "\n",
    "# Load label dictionary\n",
    "with open(r\"C:\\Users\\moham\\Downloads\\Robotech\\Summer_Training\\Project\\Note_Book\\Small_Data_model\\MediaPipe\\label_dict.pkl\", \"rb\") as f:\n",
    "    label_dict = pickle.load(f)\n",
    "\n",
    "mp_hands = mp.solutions.hands\n",
    "mp_drawing = mp.solutions.drawing_utils\n",
    "hands = mp_hands.Hands(\n",
    "    static_image_mode=False,     \n",
    "    max_num_hands=1,               \n",
    "    min_detection_confidence=0.6,\n",
    "    min_tracking_confidence=0.6\n",
    ")\n",
    "\n",
    "cap = cv2.VideoCapture(0)\n",
    "\n",
    "while True:\n",
    "    ret, frame = cap.read()\n",
    "    if not ret:\n",
    "        break\n",
    "\n",
    "    rgb_frame = cv2.cvtColor(frame, cv2.COLOR_BGR2RGB)\n",
    "    result = hands.process(rgb_frame)\n",
    "\n",
    "    if result.multi_hand_landmarks:\n",
    "        for hand_landmarks in result.multi_hand_landmarks:\n",
    "\n",
    "            h, w, c = frame.shape\n",
    "            x_coords = [int(lm.x * w) for lm in hand_landmarks.landmark]\n",
    "            y_coords = [int(lm.y * h) for lm in hand_landmarks.landmark]\n",
    "\n",
    "            x1, x2 = min(x_coords), max(x_coords)\n",
    "            y1, y2 = min(y_coords), max(y_coords)\n",
    "\n",
    "            padding = 20\n",
    "            x1, y1 = max(0, x1 - padding), max(0, y1 - padding)\n",
    "            x2, y2 = min(w, x2 + padding), min(h, y2 + padding)\n",
    "\n",
    "            hand_img = frame[y1:y2, x1:x2]\n",
    "\n",
    "            if hand_img.size > 0:\n",
    "                hand_resized = cv2.resize(hand_img, (224, 224))\n",
    "                hand_resized = hand_resized.astype(\"float32\") / 255.0\n",
    "                hand_resized = np.expand_dims(hand_resized, axis=0)\n",
    "\n",
    "                preds = mobilenet_model.predict(hand_resized, verbose=0)\n",
    "                class_id = int(np.argmax(preds))\n",
    "                confidence = float(np.max(preds))\n",
    "\n",
    "                if confidence > 0.6:\n",
    "                    letter = label_dict[class_id]\n",
    "                    label = f\"{letter}: {confidence:.2f}\"\n",
    "\n",
    "                    cv2.putText(frame, label, (x1, y1 - 10),\n",
    "                                cv2.FONT_HERSHEY_SIMPLEX, 0.8, (0, 255, 0), 2)\n",
    "                    cv2.rectangle(frame, (x1, y1), (x2, y2), (0, 255, 0), 2)\n",
    "\n",
    "            mp_drawing.draw_landmarks(frame, hand_landmarks, mp_hands.HAND_CONNECTIONS)\n",
    "\n",
    "    cv2.imshow(\"Sign Language Detection (Mediapipe)\", frame)\n",
    "\n",
    "    if cv2.waitKey(1) & 0xFF == 27:  # ESC to exit\n",
    "        break\n",
    "\n",
    "cap.release()\n",
    "cv2.destroyAllWindows()\n"
   ]
  },
  {
   "cell_type": "code",
   "execution_count": null,
   "id": "b310eefa",
   "metadata": {},
   "outputs": [],
   "source": []
  }
 ],
 "metadata": {
  "kernelspec": {
   "display_name": "Python 3",
   "language": "python",
   "name": "python3"
  },
  "language_info": {
   "codemirror_mode": {
    "name": "ipython",
    "version": 3
   },
   "file_extension": ".py",
   "mimetype": "text/x-python",
   "name": "python",
   "nbconvert_exporter": "python",
   "pygments_lexer": "ipython3",
   "version": "3.10.11"
  }
 },
 "nbformat": 4,
 "nbformat_minor": 5
}
