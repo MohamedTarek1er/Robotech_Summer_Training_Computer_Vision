{
 "cells": [
  {
   "cell_type": "code",
   "execution_count": 3,
   "id": "6905c388",
   "metadata": {},
   "outputs": [
    {
     "name": "stdout",
     "output_type": "stream",
     "text": [
      "Found 19440 images belonging to 27 classes.\n",
      "Found 4860 images belonging to 27 classes.\n",
      "Found 2700 images belonging to 27 classes.\n",
      "Classes: {'A': 0, 'B': 1, 'Blank': 2, 'C': 3, 'D': 4, 'E': 5, 'F': 6, 'G': 7, 'H': 8, 'I': 9, 'J': 10, 'K': 11, 'L': 12, 'M': 13, 'N': 14, 'O': 15, 'P': 16, 'Q': 17, 'R': 18, 'S': 19, 'T': 20, 'U': 21, 'V': 22, 'W': 23, 'X': 24, 'Y': 25, 'Z': 26}\n"
     ]
    }
   ],
   "source": [
    "from tensorflow.keras.preprocessing.image import ImageDataGenerator\n",
    "\n",
    "# Apply preprocessing & augmentation\n",
    "datagen = ImageDataGenerator(\n",
    "    rescale=1./255,   # normalize pixels\n",
    "    rotation_range=15,\n",
    "    width_shift_range=0.1,\n",
    "    height_shift_range=0.1,\n",
    "    zoom_range=0.1,\n",
    "    validation_split=0.2   # split training data into train/val\n",
    ")\n",
    "\n",
    "# Training generator\n",
    "train_gen = datagen.flow_from_directory(\n",
    "    r\"C:\\Users\\moham\\Downloads\\Robotech\\Summer_Training\\Project\\Note_Book\\Train_data\",\n",
    "    target_size=(224,224),   # resize all images\n",
    "    batch_size=32,\n",
    "    class_mode=\"categorical\",\n",
    "    subset=\"training\"\n",
    ")\n",
    "\n",
    "# Validation generator\n",
    "val_gen = datagen.flow_from_directory(\n",
    "    r\"C:\\Users\\moham\\Downloads\\Robotech\\Summer_Training\\Project\\Note_Book\\Train_data\",\n",
    "    target_size=(224,224),   # resize all images\n",
    "    batch_size=32,\n",
    "    class_mode=\"categorical\",\n",
    "    subset=\"validation\"\n",
    ")\n",
    "\n",
    "# Test generator (no augmentation)\n",
    "test_datagen = ImageDataGenerator(rescale=1./255)\n",
    "test_gen = test_datagen.flow_from_directory(\n",
    "    r\"C:\\Users\\moham\\Downloads\\Robotech\\Summer_Training\\Project\\Note_Book\\Test_data\",\n",
    "    target_size=(224,224),   # resize all images\n",
    "    batch_size=32,\n",
    "    class_mode=\"categorical\",\n",
    "    shuffle=False\n",
    ")\n",
    "\n",
    "print(\"Classes:\", train_gen.class_indices)\n"
   ]
  },
  {
   "cell_type": "code",
   "execution_count": 4,
   "id": "a3a87bc7",
   "metadata": {},
   "outputs": [],
   "source": [
    "from tensorflow.keras.applications import MobileNetV2\n",
    "from tensorflow.keras.layers import GlobalAveragePooling2D, Dropout, Dense\n",
    "from tensorflow.keras.models import Model\n",
    "from tensorflow.keras.optimizers import Adam\n",
    "from tensorflow.keras.callbacks import EarlyStopping\n",
    "\n",
    "# Early stopping\n",
    "early_stop = EarlyStopping(monitor=\"val_loss\", patience=5, restore_best_weights=True)\n",
    "\n",
    "# Base model\n",
    "base_model = MobileNetV2(weights=\"imagenet\", include_top=False, input_shape=(224,224,3))\n",
    "\n",
    "# Freeze the entire base model first\n",
    "for layer in base_model.layers:\n",
    "    layer.trainable = False\n",
    "\n",
    "# Add custom head\n",
    "x = base_model.output\n",
    "x = GlobalAveragePooling2D()(x)\n",
    "x = Dropout(0.3)(x)\n",
    "predictions = Dense(train_gen.num_classes, activation=\"softmax\")(x)\n",
    "\n",
    "model = Model(inputs=base_model.input, outputs=predictions)"
   ]
  },
  {
   "cell_type": "code",
   "execution_count": 7,
   "id": "7e2aba51",
   "metadata": {},
   "outputs": [
    {
     "name": "stdout",
     "output_type": "stream",
     "text": [
      "Epoch 1/10\n",
      "\u001b[1m608/608\u001b[0m \u001b[32m━━━━━━━━━━━━━━━━━━━━\u001b[0m\u001b[37m\u001b[0m \u001b[1m612s\u001b[0m 1s/step - accuracy: 0.6842 - loss: 1.0382 - val_accuracy: 0.7759 - val_loss: 0.7561\n",
      "Epoch 2/10\n",
      "\u001b[1m608/608\u001b[0m \u001b[32m━━━━━━━━━━━━━━━━━━━━\u001b[0m\u001b[37m\u001b[0m \u001b[1m582s\u001b[0m 958ms/step - accuracy: 0.7439 - loss: 0.8247 - val_accuracy: 0.8016 - val_loss: 0.6661\n",
      "Epoch 3/10\n",
      "\u001b[1m608/608\u001b[0m \u001b[32m━━━━━━━━━━━━━━━━━━━━\u001b[0m\u001b[37m\u001b[0m \u001b[1m592s\u001b[0m 974ms/step - accuracy: 0.7600 - loss: 0.7536 - val_accuracy: 0.8144 - val_loss: 0.6232\n",
      "Epoch 4/10\n",
      "\u001b[1m608/608\u001b[0m \u001b[32m━━━━━━━━━━━━━━━━━━━━\u001b[0m\u001b[37m\u001b[0m \u001b[1m619s\u001b[0m 1s/step - accuracy: 0.7785 - loss: 0.7117 - val_accuracy: 0.8146 - val_loss: 0.6106\n",
      "Epoch 5/10\n",
      "\u001b[1m608/608\u001b[0m \u001b[32m━━━━━━━━━━━━━━━━━━━━\u001b[0m\u001b[37m\u001b[0m \u001b[1m580s\u001b[0m 954ms/step - accuracy: 0.7807 - loss: 0.6919 - val_accuracy: 0.8117 - val_loss: 0.6125\n",
      "Epoch 6/10\n",
      "\u001b[1m608/608\u001b[0m \u001b[32m━━━━━━━━━━━━━━━━━━━━\u001b[0m\u001b[37m\u001b[0m \u001b[1m584s\u001b[0m 960ms/step - accuracy: 0.7756 - loss: 0.6956 - val_accuracy: 0.8233 - val_loss: 0.5845\n",
      "Epoch 7/10\n",
      "\u001b[1m608/608\u001b[0m \u001b[32m━━━━━━━━━━━━━━━━━━━━\u001b[0m\u001b[37m\u001b[0m \u001b[1m623s\u001b[0m 1s/step - accuracy: 0.7895 - loss: 0.6529 - val_accuracy: 0.8146 - val_loss: 0.6016\n",
      "Epoch 8/10\n",
      "\u001b[1m608/608\u001b[0m \u001b[32m━━━━━━━━━━━━━━━━━━━━\u001b[0m\u001b[37m\u001b[0m \u001b[1m617s\u001b[0m 1s/step - accuracy: 0.7771 - loss: 0.6857 - val_accuracy: 0.8222 - val_loss: 0.5813\n",
      "Epoch 9/10\n",
      "\u001b[1m608/608\u001b[0m \u001b[32m━━━━━━━━━━━━━━━━━━━━\u001b[0m\u001b[37m\u001b[0m \u001b[1m588s\u001b[0m 968ms/step - accuracy: 0.7845 - loss: 0.6557 - val_accuracy: 0.8302 - val_loss: 0.5589\n",
      "Epoch 10/10\n",
      "\u001b[1m608/608\u001b[0m \u001b[32m━━━━━━━━━━━━━━━━━━━━\u001b[0m\u001b[37m\u001b[0m \u001b[1m717s\u001b[0m 1s/step - accuracy: 0.7935 - loss: 0.6475 - val_accuracy: 0.8255 - val_loss: 0.5759\n"
     ]
    }
   ],
   "source": [
    "# Compile for head training\n",
    "model.compile(optimizer=Adam(learning_rate=1e-3),   # slightly higher LR for head\n",
    "              loss=\"categorical_crossentropy\",\n",
    "              metrics=[\"accuracy\"])\n",
    "\n",
    "with tf.device(\"/GPU:0\"):\n",
    "    history_stage1 = model.fit(\n",
    "        train_gen,\n",
    "        validation_data=val_gen,\n",
    "        epochs=10,\n",
    "        callbacks=[early_stop],\n",
    "        batch_size=64\n",
    "    )\n"
   ]
  },
  {
   "cell_type": "code",
   "execution_count": 8,
   "id": "b017482c",
   "metadata": {},
   "outputs": [
    {
     "name": "stderr",
     "output_type": "stream",
     "text": [
      "WARNING:absl:You are saving your model as an HDF5 file via `model.save()` or `keras.saving.save_model(model)`. This file format is considered legacy. We recommend using instead the native Keras format, e.g. `model.save('my_model.keras')` or `keras.saving.save_model(model, 'my_model.keras')`. \n"
     ]
    },
    {
     "name": "stdout",
     "output_type": "stream",
     "text": [
      "Model saved as asl_mobilenetv2.h5\n"
     ]
    }
   ],
   "source": [
    "# -----------------------------\n",
    "# Save model\n",
    "# ----------------------------- \n",
    "model.save(\"small_data_10_epochs.h5\")\n",
    "print(\"Model saved as asl_mobilenetv2.h5\")"
   ]
  },
  {
   "cell_type": "code",
   "execution_count": 7,
   "id": "b77fa015",
   "metadata": {},
   "outputs": [
    {
     "name": "stderr",
     "output_type": "stream",
     "text": [
      "WARNING:absl:Compiled the loaded model, but the compiled metrics have yet to be built. `model.compile_metrics` will be empty until you train or evaluate the model.\n",
      "c:\\Users\\moham\\AppData\\Local\\Programs\\Python\\Python310\\lib\\site-packages\\keras\\src\\trainers\\data_adapters\\py_dataset_adapter.py:121: UserWarning: Your `PyDataset` class should call `super().__init__(**kwargs)` in its constructor. `**kwargs` can include `workers`, `use_multiprocessing`, `max_queue_size`. Do not pass these arguments to `fit()`, as they will be ignored.\n",
      "  self._warn_if_super_not_called()\n"
     ]
    },
    {
     "name": "stdout",
     "output_type": "stream",
     "text": [
      "Model loaded!\n",
      "Trainable layers in whole model: 31\n",
      "Epoch 1/10\n",
      "\u001b[1m608/608\u001b[0m \u001b[32m━━━━━━━━━━━━━━━━━━━━\u001b[0m\u001b[37m\u001b[0m \u001b[1m669s\u001b[0m 1s/step - accuracy: 0.6417 - loss: 1.3312 - val_accuracy: 0.8560 - val_loss: 0.4785\n",
      "Epoch 2/10\n",
      "\u001b[1m608/608\u001b[0m \u001b[32m━━━━━━━━━━━━━━━━━━━━\u001b[0m\u001b[37m\u001b[0m \u001b[1m615s\u001b[0m 1s/step - accuracy: 0.8273 - loss: 0.5384 - val_accuracy: 0.8938 - val_loss: 0.3331\n",
      "Epoch 3/10\n",
      "\u001b[1m608/608\u001b[0m \u001b[32m━━━━━━━━━━━━━━━━━━━━\u001b[0m\u001b[37m\u001b[0m \u001b[1m527s\u001b[0m 867ms/step - accuracy: 0.8738 - loss: 0.3920 - val_accuracy: 0.9121 - val_loss: 0.2681\n",
      "Epoch 4/10\n",
      "\u001b[1m608/608\u001b[0m \u001b[32m━━━━━━━━━━━━━━━━━━━━\u001b[0m\u001b[37m\u001b[0m \u001b[1m600s\u001b[0m 987ms/step - accuracy: 0.8972 - loss: 0.3076 - val_accuracy: 0.9259 - val_loss: 0.2221\n",
      "Epoch 5/10\n",
      "\u001b[1m608/608\u001b[0m \u001b[32m━━━━━━━━━━━━━━━━━━━━\u001b[0m\u001b[37m\u001b[0m \u001b[1m642s\u001b[0m 1s/step - accuracy: 0.9108 - loss: 0.2613 - val_accuracy: 0.9362 - val_loss: 0.1937\n",
      "Epoch 6/10\n",
      "\u001b[1m608/608\u001b[0m \u001b[32m━━━━━━━━━━━━━━━━━━━━\u001b[0m\u001b[37m\u001b[0m \u001b[1m588s\u001b[0m 968ms/step - accuracy: 0.9334 - loss: 0.2008 - val_accuracy: 0.9426 - val_loss: 0.1745\n",
      "Epoch 7/10\n",
      "\u001b[1m608/608\u001b[0m \u001b[32m━━━━━━━━━━━━━━━━━━━━\u001b[0m\u001b[37m\u001b[0m \u001b[1m541s\u001b[0m 890ms/step - accuracy: 0.9386 - loss: 0.1847 - val_accuracy: 0.9519 - val_loss: 0.1484\n",
      "Epoch 8/10\n",
      "\u001b[1m608/608\u001b[0m \u001b[32m━━━━━━━━━━━━━━━━━━━━\u001b[0m\u001b[37m\u001b[0m \u001b[1m518s\u001b[0m 852ms/step - accuracy: 0.9499 - loss: 0.1554 - val_accuracy: 0.9527 - val_loss: 0.1363\n",
      "Epoch 9/10\n",
      "\u001b[1m608/608\u001b[0m \u001b[32m━━━━━━━━━━━━━━━━━━━━\u001b[0m\u001b[37m\u001b[0m \u001b[1m506s\u001b[0m 832ms/step - accuracy: 0.9488 - loss: 0.1513 - val_accuracy: 0.9566 - val_loss: 0.1207\n",
      "Epoch 10/10\n",
      "\u001b[1m608/608\u001b[0m \u001b[32m━━━━━━━━━━━━━━━━━━━━\u001b[0m\u001b[37m\u001b[0m \u001b[1m503s\u001b[0m 827ms/step - accuracy: 0.9602 - loss: 0.1194 - val_accuracy: 0.9632 - val_loss: 0.1083\n"
     ]
    }
   ],
   "source": [
    "import numpy as np\n",
    "import tensorflow as tf\n",
    "from tensorflow.keras.models import load_model\n",
    "from tensorflow.keras.optimizers import Adam\n",
    "from tensorflow.keras.callbacks import EarlyStopping\n",
    "\n",
    "# -----------------------------\n",
    "# Load model\n",
    "# -----------------------------\n",
    "model = load_model(\"small_data_10_epochs.h5\")\n",
    "print(\"Model loaded!\")\n",
    "\n",
    "# -----------------------------\n",
    "# Unfreeze the last 30 layers of the model\n",
    "# -----------------------------\n",
    "for layer in model.layers[-30:]:\n",
    "    layer.trainable = True\n",
    "\n",
    "# Verify\n",
    "trainable_count = np.sum([layer.trainable for layer in model.layers])\n",
    "print(f\"Trainable layers in whole model: {trainable_count}\")\n",
    "\n",
    "# -----------------------------\n",
    "# Recompile with smaller LR\n",
    "# -----------------------------\n",
    "model.compile(\n",
    "    optimizer=Adam(learning_rate=1e-5),\n",
    "    loss=\"categorical_crossentropy\",\n",
    "    metrics=[\"accuracy\"]\n",
    ")\n",
    "\n",
    "# Early stopping\n",
    "early_stop = EarlyStopping(monitor=\"val_loss\", patience=5, restore_best_weights=True)\n",
    "\n",
    "# -----------------------------\n",
    "# Fine-tune\n",
    "# -----------------------------\n",
    "with tf.device(\"/GPU:0\"):\n",
    "    history_stage2 = model.fit(\n",
    "        train_gen,\n",
    "        validation_data=val_gen,\n",
    "        epochs=10,\n",
    "        callbacks=[early_stop],\n",
    "        batch_size=64\n",
    "    )\n",
    "    "
   ]
  },
  {
   "cell_type": "code",
   "execution_count": 8,
   "id": "1e723955",
   "metadata": {},
   "outputs": [
    {
     "name": "stderr",
     "output_type": "stream",
     "text": [
      "WARNING:absl:You are saving your model as an HDF5 file via `model.save()` or `keras.saving.save_model(model)`. This file format is considered legacy. We recommend using instead the native Keras format, e.g. `model.save('my_model.keras')` or `keras.saving.save_model(model, 'my_model.keras')`. \n"
     ]
    },
    {
     "name": "stdout",
     "output_type": "stream",
     "text": [
      "Fine-tuned model saved!\n"
     ]
    }
   ],
   "source": [
    "# Save fine-tuned model\n",
    "model.save(\"fine_tuned_asl_mobilenetv2.h5\")\n",
    "print(\"Fine-tuned model saved!\")\n"
   ]
  },
  {
   "cell_type": "code",
   "execution_count": null,
   "id": "c09b0291",
   "metadata": {},
   "outputs": [],
   "source": []
  }
 ],
 "metadata": {
  "kernelspec": {
   "display_name": "Python 3",
   "language": "python",
   "name": "python3"
  },
  "language_info": {
   "codemirror_mode": {
    "name": "ipython",
    "version": 3
   },
   "file_extension": ".py",
   "mimetype": "text/x-python",
   "name": "python",
   "nbconvert_exporter": "python",
   "pygments_lexer": "ipython3",
   "version": "3.10.11"
  }
 },
 "nbformat": 4,
 "nbformat_minor": 5
}
