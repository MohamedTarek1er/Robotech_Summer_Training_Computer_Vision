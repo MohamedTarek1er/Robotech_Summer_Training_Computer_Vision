{
 "cells": [
  {
   "cell_type": "code",
   "execution_count": null,
   "id": "6fc771f1",
   "metadata": {},
   "outputs": [
    {
     "name": "stderr",
     "output_type": "stream",
     "text": [
      "Processing '1': 100%|██████████| 1000/1000 [00:28<00:00, 34.95it/s]\n",
      "Processing '10': 100%|██████████| 1000/1000 [00:34<00:00, 28.59it/s]\n",
      "Processing '2': 100%|██████████| 1000/1000 [00:30<00:00, 32.71it/s]\n",
      "Processing '3': 100%|██████████| 1000/1000 [00:30<00:00, 32.60it/s]\n",
      "Processing '4': 100%|██████████| 1000/1000 [00:30<00:00, 32.73it/s]\n",
      "Processing '5': 100%|██████████| 1000/1000 [00:29<00:00, 33.93it/s]\n",
      "Processing '6': 100%|██████████| 1000/1000 [00:29<00:00, 33.91it/s]\n",
      "Processing '7': 100%|██████████| 1000/1000 [00:29<00:00, 33.88it/s]\n",
      "Processing '8': 100%|██████████| 1000/1000 [00:29<00:00, 34.09it/s]\n",
      "Processing '9': 100%|██████████| 1000/1000 [00:29<00:00, 33.91it/s]\n",
      "Processing 'Blank': 100%|██████████| 1000/1000 [00:22<00:00, 45.38it/s]\n",
      "Processing 'del': 100%|██████████| 1000/1000 [00:25<00:00, 39.02it/s]\n",
      "Processing 'space': 100%|██████████| 1000/1000 [00:25<00:00, 38.67it/s]\n"
     ]
    }
   ],
   "source": [
    "import os\n",
    "import cv2\n",
    "import numpy as np\n",
    "import pickle\n",
    "from tqdm import tqdm\n",
    "from sklearn.model_selection import train_test_split  \n",
    "import mediapipe as mp\n",
    "\n",
    "dataset_path = r\"C:\\Users\\Note_Book\\Numbers_Model\\Numbers\"\n",
    "\n",
    "save_folder = r\"C:\\Users\\Note_Book\\Numbers_Model\"\n",
    "\n",
    "os.makedirs(save_folder, exist_ok=True)\n",
    "\n",
    "mp_hands = mp.solutions.hands\n",
    "hands = mp_hands.Hands(static_image_mode=True, max_num_hands=1, min_detection_confidence=0.7)\n",
    "\n",
    "data = []  \n",
    "labels = []  \n",
    "label_dict = {}\n",
    "\n",
    "all_folders = sorted(os.listdir(dataset_path))\n",
    "\n",
    "for idx, folder in enumerate(all_folders):\n",
    "    label_dict[idx] = folder  \n",
    "\n",
    "for idx, folder in enumerate(all_folders):\n",
    "    folder_path = os.path.join(dataset_path, folder)  \n",
    "    label = folder\n",
    "\n",
    "    for file in tqdm(os.listdir(folder_path), desc=f\"Processing '{label}'\"):\n",
    "        img_path = os.path.join(folder_path, file)  \n",
    "        img = cv2.imread(img_path)  \n",
    "\n",
    "        if img is None:  \n",
    "            continue\n",
    "\n",
    "        img_rgb = cv2.cvtColor(img, cv2.COLOR_BGR2RGB)\n",
    "\n",
    "        results = hands.process(img_rgb)\n",
    "\n",
    "        if results.multi_hand_landmarks:  \n",
    "            for hand_landmarks in results.multi_hand_landmarks:\n",
    "                x_ = []\n",
    "                y_ = []\n",
    "                features = []\n",
    "\n",
    "                for lm in hand_landmarks.landmark:\n",
    "                    x_.append(lm.x)\n",
    "                    y_.append(lm.y)\n",
    "\n",
    "                for lm in hand_landmarks.landmark:\n",
    "                    features.append(lm.x - min(x_))  \n",
    "                    features.append(lm.y - min(y_)) \n",
    "\n",
    "                if len(features) == 42:  \n",
    "                    data.append(features)\n",
    "                    labels.append(idx)  \n",
    "        else:\n",
    "            features = [0] * 42  \n",
    "            data.append(features)\n",
    "            labels.append(10) \n",
    "\n",
    "data = np.array(data)\n",
    "labels = np.array(labels)\n"
   ]
  },
  {
   "cell_type": "code",
   "execution_count": 2,
   "id": "0cc99f24",
   "metadata": {},
   "outputs": [],
   "source": [
    "from tensorflow.keras.utils import to_categorical\n",
    "\n",
    "num_classes = len(label_dict)\n",
    "labels_cat = to_categorical(labels, num_classes=num_classes)\n"
   ]
  },
  {
   "cell_type": "code",
   "execution_count": 3,
   "id": "12c57391",
   "metadata": {},
   "outputs": [],
   "source": [
    "from sklearn.model_selection import train_test_split\n",
    "\n",
    "X_train, X_test, y_train, y_test = train_test_split(\n",
    "    data, labels_cat, test_size=0.2, random_state=42, stratify=labels\n",
    ")\n"
   ]
  },
  {
   "cell_type": "code",
   "execution_count": 4,
   "id": "1fa9766d",
   "metadata": {},
   "outputs": [
    {
     "name": "stderr",
     "output_type": "stream",
     "text": [
      "c:\\Users\\moham\\AppData\\Local\\Programs\\Python\\Python310\\lib\\site-packages\\keras\\src\\layers\\core\\dense.py:87: UserWarning: Do not pass an `input_shape`/`input_dim` argument to a layer. When using Sequential models, prefer using an `Input(shape)` object as the first layer in the model instead.\n",
      "  super().__init__(activity_regularizer=activity_regularizer, **kwargs)\n"
     ]
    }
   ],
   "source": [
    "from tensorflow.keras.models import Sequential\n",
    "from tensorflow.keras.layers import Dense, Dropout\n",
    "\n",
    "model = Sequential([\n",
    "    Dense(128, activation='relu', input_shape=(42,)),\n",
    "    Dropout(0.3),\n",
    "    Dense(128, activation='relu'),\n",
    "    Dense(64, activation='relu'),\n",
    "    Dense(num_classes, activation='softmax')\n",
    "])\n",
    "\n",
    "model.compile(optimizer='adam', loss='categorical_crossentropy', metrics=['accuracy'])"
   ]
  },
  {
   "cell_type": "code",
   "execution_count": 5,
   "id": "829b4d59",
   "metadata": {},
   "outputs": [],
   "source": [
    "from tensorflow.keras.callbacks import EarlyStopping\n",
    "early_stop = EarlyStopping(\n",
    "    monitor='val_loss',\n",
    "    patience=5,\n",
    "    restore_best_weights=True\n",
    ")"
   ]
  },
  {
   "cell_type": "code",
   "execution_count": 6,
   "id": "4d27d9ee",
   "metadata": {},
   "outputs": [
    {
     "name": "stdout",
     "output_type": "stream",
     "text": [
      "Epoch 1/10\n",
      "\u001b[1m260/260\u001b[0m \u001b[32m━━━━━━━━━━━━━━━━━━━━\u001b[0m\u001b[37m\u001b[0m \u001b[1m1s\u001b[0m 2ms/step - accuracy: 0.5542 - loss: 1.6685 - val_accuracy: 0.9673 - val_loss: 0.1840\n",
      "Epoch 2/10\n",
      "\u001b[1m260/260\u001b[0m \u001b[32m━━━━━━━━━━━━━━━━━━━━\u001b[0m\u001b[37m\u001b[0m \u001b[1m0s\u001b[0m 1ms/step - accuracy: 0.9506 - loss: 0.1963 - val_accuracy: 0.9899 - val_loss: 0.0629\n",
      "Epoch 3/10\n",
      "\u001b[1m260/260\u001b[0m \u001b[32m━━━━━━━━━━━━━━━━━━━━\u001b[0m\u001b[37m\u001b[0m \u001b[1m0s\u001b[0m 2ms/step - accuracy: 0.9798 - loss: 0.0924 - val_accuracy: 0.9827 - val_loss: 0.0644\n",
      "Epoch 4/10\n",
      "\u001b[1m260/260\u001b[0m \u001b[32m━━━━━━━━━━━━━━━━━━━━\u001b[0m\u001b[37m\u001b[0m \u001b[1m0s\u001b[0m 1ms/step - accuracy: 0.9794 - loss: 0.0820 - val_accuracy: 0.9913 - val_loss: 0.0373\n",
      "Epoch 5/10\n",
      "\u001b[1m260/260\u001b[0m \u001b[32m━━━━━━━━━━━━━━━━━━━━\u001b[0m\u001b[37m\u001b[0m \u001b[1m0s\u001b[0m 1ms/step - accuracy: 0.9846 - loss: 0.0573 - val_accuracy: 0.9928 - val_loss: 0.0330\n",
      "Epoch 6/10\n",
      "\u001b[1m260/260\u001b[0m \u001b[32m━━━━━━━━━━━━━━━━━━━━\u001b[0m\u001b[37m\u001b[0m \u001b[1m0s\u001b[0m 1ms/step - accuracy: 0.9859 - loss: 0.0532 - val_accuracy: 0.9913 - val_loss: 0.0332\n",
      "Epoch 7/10\n",
      "\u001b[1m260/260\u001b[0m \u001b[32m━━━━━━━━━━━━━━━━━━━━\u001b[0m\u001b[37m\u001b[0m \u001b[1m0s\u001b[0m 1ms/step - accuracy: 0.9896 - loss: 0.0409 - val_accuracy: 0.9952 - val_loss: 0.0320\n",
      "Epoch 8/10\n",
      "\u001b[1m260/260\u001b[0m \u001b[32m━━━━━━━━━━━━━━━━━━━━\u001b[0m\u001b[37m\u001b[0m \u001b[1m0s\u001b[0m 1ms/step - accuracy: 0.9895 - loss: 0.0433 - val_accuracy: 0.9937 - val_loss: 0.0258\n",
      "Epoch 9/10\n",
      "\u001b[1m260/260\u001b[0m \u001b[32m━━━━━━━━━━━━━━━━━━━━\u001b[0m\u001b[37m\u001b[0m \u001b[1m0s\u001b[0m 1ms/step - accuracy: 0.9915 - loss: 0.0328 - val_accuracy: 0.9909 - val_loss: 0.0355\n",
      "Epoch 10/10\n",
      "\u001b[1m260/260\u001b[0m \u001b[32m━━━━━━━━━━━━━━━━━━━━\u001b[0m\u001b[37m\u001b[0m \u001b[1m0s\u001b[0m 1ms/step - accuracy: 0.9907 - loss: 0.0360 - val_accuracy: 0.9885 - val_loss: 0.0403\n"
     ]
    }
   ],
   "source": [
    "history = model.fit(\n",
    "    X_train, y_train,\n",
    "    validation_split=0.2,\n",
    "    epochs=10,\n",
    "    batch_size=32,\n",
    "    callbacks=[early_stop],\n",
    "    verbose=1\n",
    ")\n"
   ]
  },
  {
   "cell_type": "code",
   "execution_count": 7,
   "id": "7c4801bb",
   "metadata": {},
   "outputs": [
    {
     "name": "stdout",
     "output_type": "stream",
     "text": [
      "\u001b[1m82/82\u001b[0m \u001b[32m━━━━━━━━━━━━━━━━━━━━\u001b[0m\u001b[37m\u001b[0m \u001b[1m0s\u001b[0m 1ms/step - accuracy: 0.9919 - loss: 0.0245\n",
      "Test Accuracy: 0.99\n"
     ]
    }
   ],
   "source": [
    "loss, acc = model.evaluate(X_test, y_test)\n",
    "print(f\"Test Accuracy: {acc:.2f}\")\n"
   ]
  },
  {
   "cell_type": "code",
   "execution_count": 8,
   "id": "aea983c5",
   "metadata": {},
   "outputs": [
    {
     "name": "stderr",
     "output_type": "stream",
     "text": [
      "WARNING:absl:You are saving your model as an HDF5 file via `model.save()` or `keras.saving.save_model(model)`. This file format is considered legacy. We recommend using instead the native Keras format, e.g. `model.save('my_model.keras')` or `keras.saving.save_model(model, 'my_model.keras')`. \n"
     ]
    }
   ],
   "source": [
    "from tensorflow.keras.models import load_model\n",
    "import pickle\n",
    "\n",
    "model.save(\"Numbers_model.h5\")"
   ]
  },
  {
   "cell_type": "code",
   "execution_count": 9,
   "id": "447c6b5d",
   "metadata": {},
   "outputs": [],
   "source": [
    "lab={}\n",
    "all_folders = sorted(os.listdir(dataset_path))\n",
    "for idx, folder in enumerate(all_folders):\n",
    "    lab[idx] = folder.upper()\n",
    "\n",
    "with open(\"numbers_dict.pkl\", \"wb\") as f:\n",
    "    pickle.dump(lab, f)"
   ]
  },
  {
   "cell_type": "code",
   "execution_count": null,
   "id": "7381a046",
   "metadata": {},
   "outputs": [],
   "source": []
  }
 ],
 "metadata": {
  "kernelspec": {
   "display_name": "Python 3",
   "language": "python",
   "name": "python3"
  },
  "language_info": {
   "codemirror_mode": {
    "name": "ipython",
    "version": 3
   },
   "file_extension": ".py",
   "mimetype": "text/x-python",
   "name": "python",
   "nbconvert_exporter": "python",
   "pygments_lexer": "ipython3",
   "version": "3.10.11"
  }
 },
 "nbformat": 4,
 "nbformat_minor": 5
}
